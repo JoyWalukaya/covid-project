{
 "cells": [
  {
   "cell_type": "code",
   "execution_count": null,
   "metadata": {},
   "outputs": [],
   "source": [
    "#  1. Import libraries\n",
    "import pandas as pd\n",
    "import matplotlib.pyplot as plt\n",
    "import seaborn as sns\n",
    "import plotly.express as px\n",
    "\n",
    "# Optional: Set plot style\n",
    "sns.set(style=\"darkgrid\")\n",
    "plt.rcParams['figure.figsize'] = (12, 6)"
   ]
  },
  {
   "cell_type": "code",
   "execution_count": null,
   "metadata": {},
   "outputs": [],
   "source": [
    "# 2. Load the dataset\n",
    "df = pd.read_csv(\"owid-covid-data.csv\")\n",
    "df.head()"
   ]
  },
  {
   "cell_type": "code",
   "execution_count": null,
   "metadata": {},
   "outputs": [],
   "source": [
    "# 3. Exploring the data\n",
    "print(\"Columns:\\n\", df.columns)\n",
    "print(\"\\nShape:\", df.shape)\n",
    "print(\"\\nMissing values:\\n\", df.isnull().sum().sort_values(ascending=False).head(10))"
   ]
  },
  {
   "cell_type": "code",
   "execution_count": null,
   "metadata": {},
   "outputs": [],
   "source": [
    "#  4. Cleaning the data\n",
    "df['date'] = pd.to_datetime(df['date'])\n",
    "\n",
    "# Filtering selected countries\n",
    "countries = ['Kenya', 'India', 'United States', 'Brazil', 'Germany']\n",
    "df = df[df['location'].isin(countries)]\n",
    "\n",
    "# Droping rows without dates or total_cases\n",
    "df = df.dropna(subset=['date', 'total_cases'])\n",
    "\n",
    "# Filling missing numerical values with interpolation\n",
    "cols_to_fill = ['total_deaths', 'new_cases', 'new_deaths', 'total_vaccinations']\n",
    "df[cols_to_fill] = df[cols_to_fill].interpolate()"
   ]
  },
  {
   "cell_type": "code",
   "execution_count": null,
   "metadata": {},
   "outputs": [],
   "source": [
    "# 5. EDA - Total Cases Over Time\n",
    "plt.figure(figsize=(14, 7))\n",
    "for country in countries:\n",
    "    country_df = df[df['location'] == country]\n",
    "    plt.plot(country_df['date'], country_df['total_cases'], label=country)\n",
    "plt.title(\"Total COVID-19 Cases Over Time\")\n",
    "plt.xlabel(\"Date\")\n",
    "plt.ylabel(\"Total Cases\")\n",
    "plt.legend()\n",
    "plt.show()"
   ]
  },
  {
   "cell_type": "code",
   "execution_count": null,
   "metadata": {},
   "outputs": [],
   "source": [
    "# 6. EDA - Total Deaths Over Time\n",
    "plt.figure(figsize=(14, 7))\n",
    "for country in countries:\n",
    "    country_df = df[df['location'] == country]\n",
    "    plt.plot(country_df['date'], country_df['total_deaths'], label=country)\n",
    "plt.title(\"Total COVID-19 Deaths Over Time\")\n",
    "plt.xlabel(\"Date\")\n",
    "plt.ylabel(\"Total Deaths\")\n",
    "plt.legend()\n",
    "plt.show()"
   ]
  },
  {
   "cell_type": "code",
   "execution_count": null,
   "metadata": {},
   "outputs": [],
   "source": [
    "# 7. Daily New Cases Comparison\n",
    "plt.figure(figsize=(14, 7))\n",
    "for country in countries:\n",
    "    country_df = df[df['location'] == country]\n",
    "    plt.plot(country_df['date'], country_df['new_cases'], label=country)\n",
    "plt.title(\"Daily New COVID-19 Cases\")\n",
    "plt.xlabel(\"Date\")\n",
    "plt.ylabel(\"New Cases\")\n",
    "plt.legend()\n",
    "plt.show()"
   ]
  },
  {
   "cell_type": "code",
   "execution_count": null,
   "metadata": {},
   "outputs": [],
   "source": [
    " #8. Calculating Death Rate\n",
    "df['death_rate'] = df['total_deaths'] / df['total_cases']\n",
    "\n",
    "# Ploting death rate\n",
    "plt.figure(figsize=(14, 7))\n",
    "for country in countries:\n",
    "    country_df = df[df['location'] == country]\n",
    "    plt.plot(country_df['date'], country_df['death_rate'], label=country)\n",
    "plt.title(\"COVID-19 Death Rate Over Time\")\n",
    "plt.xlabel(\"Date\")\n",
    "plt.ylabel(\"Death Rate\")\n",
    "plt.legend()\n",
    "plt.show()"
   ]
  },
  {
   "cell_type": "code",
   "execution_count": null,
   "metadata": {},
   "outputs": [],
   "source": [
    "# 9. Vaccination Progress\n",
    "plt.figure(figsize=(14, 7))\n",
    "for country in countries:\n",
    "    country_df = df[df['location'] == country]\n",
    "    plt.plot(country_df['date'], country_df['total_vaccinations'], label=country)\n",
    "plt.title(\"Cumulative Vaccinations Over Time\")\n",
    "plt.xlabel(\"Date\")\n",
    "plt.ylabel(\"Total Vaccinations\")\n",
    "plt.legend()\n",
    "plt.show()"
   ]
  },
  {
   "cell_type": "code",
   "execution_count": null,
   "id": "0b7a6562",
   "metadata": {},
   "outputs": [],
   "source": []
  },
  {
   "cell_type": "code",
   "execution_count": null,
   "metadata": {},
   "outputs": [],
   "source": []
  },
  {
   "cell_type": "code",
   "execution_count": null,
   "metadata": {},
   "outputs": [],
   "source": []
  },
  {
   "cell_type": "markdown",
   "metadata": {},
   "source": []
  },
  {
   "cell_type": "markdown",
   "metadata": {},
   "source": []
  },
  {
   "cell_type": "code",
   "execution_count": null,
   "metadata": {},
   "outputs": [],
   "source": [
    "# 10. Optional Choropleth Map\n",
    "# Geting latest vaccination data\n",
    "latest = df[df['date'] == df['date'].max()]\n",
    "choropleth_df = latest[['iso_code', 'location', 'total_vaccinations']].dropna()\n",
    "\n",
    "# Ploting with plotly\n",
    "fig = px.choropleth(choropleth_df,\n",
    "                    locations='iso_code',\n",
    "                    color='total_vaccinations',\n",
    "                    hover_name='location',\n",
    "                    color_continuous_scale='Viridis',\n",
    "                    title='Total COVID-19 Vaccinations by Country')\n",
    "fig.show()"
   ]
  }
 ],
 "metadata": {
  "kernelspec": {
   "display_name": "Python 3",
   "language": "python",
   "name": "python3"
  },
  "language_info": {
   "name": "python",
   "version": "3.x"
  }
 },
 "nbformat": 4,
 "nbformat_minor": 5
}
